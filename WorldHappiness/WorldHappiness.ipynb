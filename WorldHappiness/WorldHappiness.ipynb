{
  "nbformat": 4,
  "nbformat_minor": 0,
  "metadata": {
    "colab": {
      "name": "SampleSuperstore.ipynb",
      "provenance": [],
      "collapsed_sections": []
    },
    "kernelspec": {
      "name": "python3",
      "display_name": "Python 3"
    },
    "language_info": {
      "name": "python"
    }
  },
  "cells": [
    {
      "cell_type": "code",
      "metadata": {
        "id": "Mp_zl1JNCo0N"
      },
      "source": [
        "import pandas as pd\n",
        "import numpy as np\n",
        "import matplotlib.pyplot as plt\n",
        "from sklearn.linear_model import LinearRegression"
      ],
      "execution_count": 4,
      "outputs": []
    },
    {
      "cell_type": "markdown",
      "metadata": {
        "id": "vAgSNk7HDIZp"
      },
      "source": [
        "#DATA"
      ]
    },
    {
      "cell_type": "code",
      "metadata": {
        "colab": {
          "base_uri": "https://localhost:8080/",
          "height": 453
        },
        "id": "WHEme8YeDKtW",
        "outputId": "3a85f4bb-f165-4d40-ef6d-36db4487f4b7"
      },
      "source": [
        "df_2019 = pd.read_csv('2019.csv')\n",
        "df_2019"
      ],
      "execution_count": 5,
      "outputs": [
        {
          "output_type": "execute_result",
          "data": {
            "text/html": [
              "<div>\n",
              "<style scoped>\n",
              "    .dataframe tbody tr th:only-of-type {\n",
              "        vertical-align: middle;\n",
              "    }\n",
              "\n",
              "    .dataframe tbody tr th {\n",
              "        vertical-align: top;\n",
              "    }\n",
              "\n",
              "    .dataframe thead th {\n",
              "        text-align: right;\n",
              "    }\n",
              "</style>\n",
              "<table border=\"1\" class=\"dataframe\">\n",
              "  <thead>\n",
              "    <tr style=\"text-align: right;\">\n",
              "      <th></th>\n",
              "      <th>Overall rank</th>\n",
              "      <th>Country or region</th>\n",
              "      <th>Score</th>\n",
              "      <th>GDP per capita</th>\n",
              "      <th>Social support</th>\n",
              "      <th>Healthy life expectancy</th>\n",
              "      <th>Freedom to make life choices</th>\n",
              "      <th>Generosity</th>\n",
              "      <th>Perceptions of corruption</th>\n",
              "    </tr>\n",
              "  </thead>\n",
              "  <tbody>\n",
              "    <tr>\n",
              "      <th>0</th>\n",
              "      <td>1</td>\n",
              "      <td>Finland</td>\n",
              "      <td>7.769</td>\n",
              "      <td>1.340</td>\n",
              "      <td>1.587</td>\n",
              "      <td>0.986</td>\n",
              "      <td>0.596</td>\n",
              "      <td>0.153</td>\n",
              "      <td>0.393</td>\n",
              "    </tr>\n",
              "    <tr>\n",
              "      <th>1</th>\n",
              "      <td>2</td>\n",
              "      <td>Denmark</td>\n",
              "      <td>7.600</td>\n",
              "      <td>1.383</td>\n",
              "      <td>1.573</td>\n",
              "      <td>0.996</td>\n",
              "      <td>0.592</td>\n",
              "      <td>0.252</td>\n",
              "      <td>0.410</td>\n",
              "    </tr>\n",
              "    <tr>\n",
              "      <th>2</th>\n",
              "      <td>3</td>\n",
              "      <td>Norway</td>\n",
              "      <td>7.554</td>\n",
              "      <td>1.488</td>\n",
              "      <td>1.582</td>\n",
              "      <td>1.028</td>\n",
              "      <td>0.603</td>\n",
              "      <td>0.271</td>\n",
              "      <td>0.341</td>\n",
              "    </tr>\n",
              "    <tr>\n",
              "      <th>3</th>\n",
              "      <td>4</td>\n",
              "      <td>Iceland</td>\n",
              "      <td>7.494</td>\n",
              "      <td>1.380</td>\n",
              "      <td>1.624</td>\n",
              "      <td>1.026</td>\n",
              "      <td>0.591</td>\n",
              "      <td>0.354</td>\n",
              "      <td>0.118</td>\n",
              "    </tr>\n",
              "    <tr>\n",
              "      <th>4</th>\n",
              "      <td>5</td>\n",
              "      <td>Netherlands</td>\n",
              "      <td>7.488</td>\n",
              "      <td>1.396</td>\n",
              "      <td>1.522</td>\n",
              "      <td>0.999</td>\n",
              "      <td>0.557</td>\n",
              "      <td>0.322</td>\n",
              "      <td>0.298</td>\n",
              "    </tr>\n",
              "    <tr>\n",
              "      <th>...</th>\n",
              "      <td>...</td>\n",
              "      <td>...</td>\n",
              "      <td>...</td>\n",
              "      <td>...</td>\n",
              "      <td>...</td>\n",
              "      <td>...</td>\n",
              "      <td>...</td>\n",
              "      <td>...</td>\n",
              "      <td>...</td>\n",
              "    </tr>\n",
              "    <tr>\n",
              "      <th>151</th>\n",
              "      <td>152</td>\n",
              "      <td>Rwanda</td>\n",
              "      <td>3.334</td>\n",
              "      <td>0.359</td>\n",
              "      <td>0.711</td>\n",
              "      <td>0.614</td>\n",
              "      <td>0.555</td>\n",
              "      <td>0.217</td>\n",
              "      <td>0.411</td>\n",
              "    </tr>\n",
              "    <tr>\n",
              "      <th>152</th>\n",
              "      <td>153</td>\n",
              "      <td>Tanzania</td>\n",
              "      <td>3.231</td>\n",
              "      <td>0.476</td>\n",
              "      <td>0.885</td>\n",
              "      <td>0.499</td>\n",
              "      <td>0.417</td>\n",
              "      <td>0.276</td>\n",
              "      <td>0.147</td>\n",
              "    </tr>\n",
              "    <tr>\n",
              "      <th>153</th>\n",
              "      <td>154</td>\n",
              "      <td>Afghanistan</td>\n",
              "      <td>3.203</td>\n",
              "      <td>0.350</td>\n",
              "      <td>0.517</td>\n",
              "      <td>0.361</td>\n",
              "      <td>0.000</td>\n",
              "      <td>0.158</td>\n",
              "      <td>0.025</td>\n",
              "    </tr>\n",
              "    <tr>\n",
              "      <th>154</th>\n",
              "      <td>155</td>\n",
              "      <td>Central African Republic</td>\n",
              "      <td>3.083</td>\n",
              "      <td>0.026</td>\n",
              "      <td>0.000</td>\n",
              "      <td>0.105</td>\n",
              "      <td>0.225</td>\n",
              "      <td>0.235</td>\n",
              "      <td>0.035</td>\n",
              "    </tr>\n",
              "    <tr>\n",
              "      <th>155</th>\n",
              "      <td>156</td>\n",
              "      <td>South Sudan</td>\n",
              "      <td>2.853</td>\n",
              "      <td>0.306</td>\n",
              "      <td>0.575</td>\n",
              "      <td>0.295</td>\n",
              "      <td>0.010</td>\n",
              "      <td>0.202</td>\n",
              "      <td>0.091</td>\n",
              "    </tr>\n",
              "  </tbody>\n",
              "</table>\n",
              "<p>156 rows × 9 columns</p>\n",
              "</div>"
            ],
            "text/plain": [
              "     Overall rank  ... Perceptions of corruption\n",
              "0               1  ...                     0.393\n",
              "1               2  ...                     0.410\n",
              "2               3  ...                     0.341\n",
              "3               4  ...                     0.118\n",
              "4               5  ...                     0.298\n",
              "..            ...  ...                       ...\n",
              "151           152  ...                     0.411\n",
              "152           153  ...                     0.147\n",
              "153           154  ...                     0.025\n",
              "154           155  ...                     0.035\n",
              "155           156  ...                     0.091\n",
              "\n",
              "[156 rows x 9 columns]"
            ]
          },
          "metadata": {
            "tags": []
          },
          "execution_count": 5
        }
      ]
    },
    {
      "cell_type": "code",
      "metadata": {
        "colab": {
          "base_uri": "https://localhost:8080/"
        },
        "id": "R9NgHLkzDe40",
        "outputId": "db691474-426d-4270-8201-410564cbf64a"
      },
      "source": [
        "df_2019.info()"
      ],
      "execution_count": 7,
      "outputs": [
        {
          "output_type": "stream",
          "text": [
            "<class 'pandas.core.frame.DataFrame'>\n",
            "RangeIndex: 156 entries, 0 to 155\n",
            "Data columns (total 9 columns):\n",
            " #   Column                        Non-Null Count  Dtype  \n",
            "---  ------                        --------------  -----  \n",
            " 0   Overall rank                  156 non-null    int64  \n",
            " 1   Country or region             156 non-null    object \n",
            " 2   Score                         156 non-null    float64\n",
            " 3   GDP per capita                156 non-null    float64\n",
            " 4   Social support                156 non-null    float64\n",
            " 5   Healthy life expectancy       156 non-null    float64\n",
            " 6   Freedom to make life choices  156 non-null    float64\n",
            " 7   Generosity                    156 non-null    float64\n",
            " 8   Perceptions of corruption     156 non-null    float64\n",
            "dtypes: float64(7), int64(1), object(1)\n",
            "memory usage: 11.1+ KB\n"
          ],
          "name": "stdout"
        }
      ]
    },
    {
      "cell_type": "code",
      "metadata": {
        "colab": {
          "base_uri": "https://localhost:8080/"
        },
        "id": "xEWXUgALDlX5",
        "outputId": "6234b657-2926-401a-cb2f-0538b4b60b3a"
      },
      "source": [
        "df_2019.isnull().sum()"
      ],
      "execution_count": 9,
      "outputs": [
        {
          "output_type": "execute_result",
          "data": {
            "text/plain": [
              "Overall rank                    0\n",
              "Country or region               0\n",
              "Score                           0\n",
              "GDP per capita                  0\n",
              "Social support                  0\n",
              "Healthy life expectancy         0\n",
              "Freedom to make life choices    0\n",
              "Generosity                      0\n",
              "Perceptions of corruption       0\n",
              "dtype: int64"
            ]
          },
          "metadata": {
            "tags": []
          },
          "execution_count": 9
        }
      ]
    },
    {
      "cell_type": "code",
      "metadata": {
        "colab": {
          "base_uri": "https://localhost:8080/",
          "height": 348
        },
        "id": "f3XTcyDZENwZ",
        "outputId": "db9b2bdb-220f-415d-db01-ccb217056dbb"
      },
      "source": [
        "df_2019.corr()"
      ],
      "execution_count": 11,
      "outputs": [
        {
          "output_type": "execute_result",
          "data": {
            "text/html": [
              "<div>\n",
              "<style scoped>\n",
              "    .dataframe tbody tr th:only-of-type {\n",
              "        vertical-align: middle;\n",
              "    }\n",
              "\n",
              "    .dataframe tbody tr th {\n",
              "        vertical-align: top;\n",
              "    }\n",
              "\n",
              "    .dataframe thead th {\n",
              "        text-align: right;\n",
              "    }\n",
              "</style>\n",
              "<table border=\"1\" class=\"dataframe\">\n",
              "  <thead>\n",
              "    <tr style=\"text-align: right;\">\n",
              "      <th></th>\n",
              "      <th>Overall rank</th>\n",
              "      <th>Score</th>\n",
              "      <th>GDP per capita</th>\n",
              "      <th>Social support</th>\n",
              "      <th>Healthy life expectancy</th>\n",
              "      <th>Freedom to make life choices</th>\n",
              "      <th>Generosity</th>\n",
              "      <th>Perceptions of corruption</th>\n",
              "    </tr>\n",
              "  </thead>\n",
              "  <tbody>\n",
              "    <tr>\n",
              "      <th>Overall rank</th>\n",
              "      <td>1.000000</td>\n",
              "      <td>-0.989096</td>\n",
              "      <td>-0.801947</td>\n",
              "      <td>-0.767465</td>\n",
              "      <td>-0.787411</td>\n",
              "      <td>-0.546606</td>\n",
              "      <td>-0.047993</td>\n",
              "      <td>-0.351959</td>\n",
              "    </tr>\n",
              "    <tr>\n",
              "      <th>Score</th>\n",
              "      <td>-0.989096</td>\n",
              "      <td>1.000000</td>\n",
              "      <td>0.793883</td>\n",
              "      <td>0.777058</td>\n",
              "      <td>0.779883</td>\n",
              "      <td>0.566742</td>\n",
              "      <td>0.075824</td>\n",
              "      <td>0.385613</td>\n",
              "    </tr>\n",
              "    <tr>\n",
              "      <th>GDP per capita</th>\n",
              "      <td>-0.801947</td>\n",
              "      <td>0.793883</td>\n",
              "      <td>1.000000</td>\n",
              "      <td>0.754906</td>\n",
              "      <td>0.835462</td>\n",
              "      <td>0.379079</td>\n",
              "      <td>-0.079662</td>\n",
              "      <td>0.298920</td>\n",
              "    </tr>\n",
              "    <tr>\n",
              "      <th>Social support</th>\n",
              "      <td>-0.767465</td>\n",
              "      <td>0.777058</td>\n",
              "      <td>0.754906</td>\n",
              "      <td>1.000000</td>\n",
              "      <td>0.719009</td>\n",
              "      <td>0.447333</td>\n",
              "      <td>-0.048126</td>\n",
              "      <td>0.181899</td>\n",
              "    </tr>\n",
              "    <tr>\n",
              "      <th>Healthy life expectancy</th>\n",
              "      <td>-0.787411</td>\n",
              "      <td>0.779883</td>\n",
              "      <td>0.835462</td>\n",
              "      <td>0.719009</td>\n",
              "      <td>1.000000</td>\n",
              "      <td>0.390395</td>\n",
              "      <td>-0.029511</td>\n",
              "      <td>0.295283</td>\n",
              "    </tr>\n",
              "    <tr>\n",
              "      <th>Freedom to make life choices</th>\n",
              "      <td>-0.546606</td>\n",
              "      <td>0.566742</td>\n",
              "      <td>0.379079</td>\n",
              "      <td>0.447333</td>\n",
              "      <td>0.390395</td>\n",
              "      <td>1.000000</td>\n",
              "      <td>0.269742</td>\n",
              "      <td>0.438843</td>\n",
              "    </tr>\n",
              "    <tr>\n",
              "      <th>Generosity</th>\n",
              "      <td>-0.047993</td>\n",
              "      <td>0.075824</td>\n",
              "      <td>-0.079662</td>\n",
              "      <td>-0.048126</td>\n",
              "      <td>-0.029511</td>\n",
              "      <td>0.269742</td>\n",
              "      <td>1.000000</td>\n",
              "      <td>0.326538</td>\n",
              "    </tr>\n",
              "    <tr>\n",
              "      <th>Perceptions of corruption</th>\n",
              "      <td>-0.351959</td>\n",
              "      <td>0.385613</td>\n",
              "      <td>0.298920</td>\n",
              "      <td>0.181899</td>\n",
              "      <td>0.295283</td>\n",
              "      <td>0.438843</td>\n",
              "      <td>0.326538</td>\n",
              "      <td>1.000000</td>\n",
              "    </tr>\n",
              "  </tbody>\n",
              "</table>\n",
              "</div>"
            ],
            "text/plain": [
              "                              Overall rank  ...  Perceptions of corruption\n",
              "Overall rank                      1.000000  ...                  -0.351959\n",
              "Score                            -0.989096  ...                   0.385613\n",
              "GDP per capita                   -0.801947  ...                   0.298920\n",
              "Social support                   -0.767465  ...                   0.181899\n",
              "Healthy life expectancy          -0.787411  ...                   0.295283\n",
              "Freedom to make life choices     -0.546606  ...                   0.438843\n",
              "Generosity                       -0.047993  ...                   0.326538\n",
              "Perceptions of corruption        -0.351959  ...                   1.000000\n",
              "\n",
              "[8 rows x 8 columns]"
            ]
          },
          "metadata": {
            "tags": []
          },
          "execution_count": 11
        }
      ]
    },
    {
      "cell_type": "markdown",
      "metadata": {
        "id": "pib5NCj9HPUK"
      },
      "source": [
        "Sơ lược ta có thể thấy các yếu tố như GDP, hỗ trợ xã hội, sức khỏe và sự hào phóng có ảnh hướng lớn đến chỉ số hạnh phúc (> 0.7)\n",
        "\n",
        "\n"
      ]
    },
    {
      "cell_type": "markdown",
      "metadata": {
        "id": "PXW9TzCXIVsQ"
      },
      "source": [
        "# Mối quan hệ giữa GDP với chỉ số hạnh phúc"
      ]
    },
    {
      "cell_type": "code",
      "metadata": {
        "colab": {
          "base_uri": "https://localhost:8080/",
          "height": 534
        },
        "id": "XiMrzXfhJegT",
        "outputId": "b832b0af-8a13-483e-cb7d-e2ac274db8c2"
      },
      "source": [
        "def GDP_hapiness(df):\n",
        "    df1 = pd.DataFrame()\n",
        "    df1['GDP per capita'] = df['GDP per capita']\n",
        "    df1['Score'] = df['Score']\n",
        "    print(df1)\n",
        "\n",
        "    plt.title('Mối liên hệ giữa GDP với chỉ số hạnh phúc')\n",
        "    plt.xlabel('GDP')\n",
        "    plt.ylabel('Score happiness')\n",
        "    plt.scatter(df1['GDP per capita'],df1['Score'],color='blue')\n",
        "\n",
        "    X = np.array([df1['GDP per capita']]).T\n",
        "    ones = np.ones((len(X),1))\n",
        "    X = np.concatenate((ones,X),axis=1)\n",
        "    y = np.array([df1['Score']]).T\n",
        "\n",
        "    regression = LinearRegression()\n",
        "    regression.fit(X, y)\n",
        "\n",
        "    theta = np.array([regression.intercept_, [regression.coef_[0][-1]]])\n",
        "\n",
        "    x_pre = np.array([df1['GDP per capita']]).T\n",
        "    y_pre = X @ theta\n",
        "\n",
        "    plt.plot(x_pre, y_pre, color='red',linewidth=3)\n",
        "\n",
        "    plt.show()\n",
        "GDP_hapiness(df_2019)"
      ],
      "execution_count": 14,
      "outputs": [
        {
          "output_type": "stream",
          "text": [
            "     GDP per capita  Score\n",
            "0             1.340  7.769\n",
            "1             1.383  7.600\n",
            "2             1.488  7.554\n",
            "3             1.380  7.494\n",
            "4             1.396  7.488\n",
            "..              ...    ...\n",
            "151           0.359  3.334\n",
            "152           0.476  3.231\n",
            "153           0.350  3.203\n",
            "154           0.026  3.083\n",
            "155           0.306  2.853\n",
            "\n",
            "[156 rows x 2 columns]\n"
          ],
          "name": "stdout"
        },
        {
          "output_type": "display_data",
          "data": {
            "image/png": "[encoded data removed]",
            "text/plain": [
              "<Figure size 432x288 with 1 Axes>"
            ]
          },
          "metadata": {
            "tags": [],
            "needs_background": "light"
          }
        }
      ]
    },
    {
      "cell_type": "markdown",
      "metadata": {
        "id": "Cp4CSGkoJmlI"
      },
      "source": [
        "Tổng quan nếu GDP cao thì chỉ số hạnh phúc cao\n",
        "Tuy nhiên có nhiều điểm nằm xa đường line màu đỏ, chứng tỏ chỉ số hạnh phúc không chỉ phụ thuộc vào GDP mà còn phụ thuộc vào nhiều yếu tố khác"
      ]
    },
    {
      "cell_type": "markdown",
      "metadata": {
        "id": "yElKTLPgJ7B5"
      },
      "source": [
        "# Mối quan hệ giữa chỉ số hỗ trợ xã hội với chỉ số hạnh phúc\n"
      ]
    },
    {
      "cell_type": "code",
      "metadata": {
        "colab": {
          "base_uri": "https://localhost:8080/",
          "height": 534
        },
        "id": "0hoyQRsJKTWw",
        "outputId": "63661433-2aa4-4dda-eec7-a8d7a0b5d20b"
      },
      "source": [
        "def social_support_hapiness(df):\n",
        "    df1 = pd.DataFrame()\n",
        "    df1['Social support'] = df['Social support']\n",
        "    df1['Score'] = df['Score']\n",
        "    print(df1)\n",
        "\n",
        "    plt.title('Mối liên hệ giữa hỗ trợ xã hội với chỉ số hạnh phúc')\n",
        "    plt.xlabel('Social support')\n",
        "    plt.ylabel('Score happiness')\n",
        "    plt.scatter(df1['Social support'], df1['Score'], color='blue')\n",
        "\n",
        "    X = np.array([df1['Social support']]).T\n",
        "    ones = np.ones((len(X), 1))\n",
        "    X = np.concatenate((ones, X), axis=1)\n",
        "    y = np.array([df1['Score']]).T\n",
        "\n",
        "    regression = LinearRegression()\n",
        "    regression.fit(X, y)\n",
        "\n",
        "    theta = np.array([regression.intercept_, [regression.coef_[0][-1]]])\n",
        "\n",
        "    x_pre = np.array([df1['Social support']]).T\n",
        "    y_pre = X @ theta\n",
        "\n",
        "    plt.plot(x_pre, y_pre, color='red', linewidth=3)\n",
        "    plt.show()\n",
        "social_support_hapiness(df_2019)"
      ],
      "execution_count": 15,
      "outputs": [
        {
          "output_type": "stream",
          "text": [
            "     Social support  Score\n",
            "0             1.587  7.769\n",
            "1             1.573  7.600\n",
            "2             1.582  7.554\n",
            "3             1.624  7.494\n",
            "4             1.522  7.488\n",
            "..              ...    ...\n",
            "151           0.711  3.334\n",
            "152           0.885  3.231\n",
            "153           0.517  3.203\n",
            "154           0.000  3.083\n",
            "155           0.575  2.853\n",
            "\n",
            "[156 rows x 2 columns]\n"
          ],
          "name": "stdout"
        },
        {
          "output_type": "display_data",
          "data": {
            "image/png": "[encoded data removed]",
            "text/plain": [
              "<Figure size 432x288 with 1 Axes>"
            ]
          },
          "metadata": {
            "tags": [],
            "needs_background": "light"
          }
        }
      ]
    },
    {
      "cell_type": "markdown",
      "metadata": {
        "id": "X_kpgW_jKiul"
      },
      "source": [
        "Cũng tượng tự với biểu đồ mối quan hệ GDP với chỉ số hạnh phúc, chỉ số hỗ trợ xã hội tăng thì chỉ số hạnh phúc cũng tương đối tăng theo, tuy nhiên vẫn còn nhiều điểm cách xa đường line màu đỏ\n",
        "Điều này có nghĩa chỉ số hạnh phúc cũng không phụ thuộc duy nhất vào chỉ số hỗ trợ xã hội"
      ]
    },
    {
      "cell_type": "markdown",
      "metadata": {
        "id": "ZVkn0AkhK_dv"
      },
      "source": [
        "## KẾT\n",
        "Chỉ số hạnh phúc phải phụ thuộc vào nhiều yếu tố chứ không có yếu tố nào quyết định đến chỉ số này\n",
        "\n",
        "# TIỀN NHIỀU CHƯA CHẮC BẠN ĐÃ HẠNH PHÚC NHƯNG KHI BẠN NHIỀU TIỀN BẠN ĐÃ ĐẶT MỘT CHÂN ĐẾN SỰ HẠNH PHÚC"
      ]
    }
  ]
}